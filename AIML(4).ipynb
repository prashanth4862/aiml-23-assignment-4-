{
 "cells": [
  {
   "cell_type": "code",
   "execution_count": null,
   "metadata": {},
   "outputs": [],
   "source": [
    "def minimax(node, depth, is_maximizing_player):\n",
    "    if depth == 0 or node.is_terminal():\n",
    "        return node.evaluate()\n",
    "\n",
    "    if is_maximizing_player:\n",
    "        max_eval = float('-inf')\n",
    "        for child in node.children():\n",
    "            eval = minimax(child,depth - 1,False)\n",
    "            max_eval = max(max_eval, eval)\n",
    "        return max_eval\n",
    "    else:\n",
    "        min_eval = float('inf')\n",
    "        for child in node.children():\n",
    "            eval = minimax(child, depth - 1, True)\n",
    "            min_eval = min(min_eval,eval);\n",
    "        return min_eval\n",
    "\n",
    "# Example usage:\n",
    "class Node:\n",
    "    def _init_(self, value):\n",
    "        self.value = value\n",
    "        self.children_nodes = []\n",
    "\n",
    "    def is_terminal(self):\n",
    "        return not bool(self.children_nodes)\n",
    "\n",
    "    def evaluate(self):\n",
    "        return self.value\n",
    "\n",
    "    def children(self):\n",
    "        return self.children_nodes\n",
    "\n",
    "# Construct the tree\n",
    "root = Node(\"A\")\n",
    "root.children_nodes = [Node(\"B\"), Node(\"C\")]\n",
    "root.children_nodes[0].children_nodes = [Node(\"D\"), Node(\"E\")]\n",
    "root.children_nodes[1].children_nodes = [Node(\"F\"), Node(\"G\")]\n",
    "root.children_nodes[0].children_nodes[0].children_nodes=[Node(-1),Node(4)]\n",
    "root.children_nodes[0].children_nodes[1].children_nodes=[Node(2),Node(6)]\n",
    "root.children_nodes[1].children_nodes[0].children_nodes=[Node(-3),Node(-5)]\n",
    "root.children_nodes[1].children_nodes[1].children_nodes=[Node(0),Node(7)]\n",
    "\n",
    "# ... continue constructing the tree with terminal values\n",
    "\n",
    "# Example usage:\n",
    "result = minimax(root, 3, True)  # Assuming depth is 3\n",
    "print(\"The optimal value is:\", result)"
   ]
  }
 ],
 "metadata": {
  "language_info": {
   "name": "python"
  }
 },
 "nbformat": 4,
 "nbformat_minor": 2
}
